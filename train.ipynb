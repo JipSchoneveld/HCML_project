{
 "cells": [
  {
   "cell_type": "code",
   "execution_count": 1,
   "metadata": {},
   "outputs": [],
   "source": [
    "import pandas as pd\n",
    "import sklearn\n",
    "from sklearn.model_selection import train_test_split\n",
    "from sklearn.preprocessing import LabelEncoder"
   ]
  },
  {
   "cell_type": "code",
   "execution_count": 2,
   "metadata": {},
   "outputs": [],
   "source": [
    "#Models to use\n",
    "from sklearn.linear_model import LogisticRegression"
   ]
  },
  {
   "cell_type": "markdown",
   "metadata": {},
   "source": [
    "# Data"
   ]
  },
  {
   "cell_type": "code",
   "execution_count": 3,
   "metadata": {},
   "outputs": [
    {
     "data": {
      "text/html": [
       "<div>\n",
       "<style scoped>\n",
       "    .dataframe tbody tr th:only-of-type {\n",
       "        vertical-align: middle;\n",
       "    }\n",
       "\n",
       "    .dataframe tbody tr th {\n",
       "        vertical-align: top;\n",
       "    }\n",
       "\n",
       "    .dataframe thead th {\n",
       "        text-align: right;\n",
       "    }\n",
       "</style>\n",
       "<table border=\"1\" class=\"dataframe\">\n",
       "  <thead>\n",
       "    <tr style=\"text-align: right;\">\n",
       "      <th></th>\n",
       "      <th>education</th>\n",
       "      <th>marital.status</th>\n",
       "      <th>sex</th>\n",
       "      <th>income</th>\n",
       "      <th>education.num</th>\n",
       "    </tr>\n",
       "  </thead>\n",
       "  <tbody>\n",
       "    <tr>\n",
       "      <th>0</th>\n",
       "      <td>HS-grad</td>\n",
       "      <td>widowed</td>\n",
       "      <td>Male</td>\n",
       "      <td>1</td>\n",
       "      <td>3</td>\n",
       "    </tr>\n",
       "    <tr>\n",
       "      <th>1</th>\n",
       "      <td>Doctorate</td>\n",
       "      <td>divorced</td>\n",
       "      <td>Male</td>\n",
       "      <td>0</td>\n",
       "      <td>4</td>\n",
       "    </tr>\n",
       "    <tr>\n",
       "      <th>2</th>\n",
       "      <td>Masters</td>\n",
       "      <td>married</td>\n",
       "      <td>Male</td>\n",
       "      <td>1</td>\n",
       "      <td>7</td>\n",
       "    </tr>\n",
       "    <tr>\n",
       "      <th>3</th>\n",
       "      <td>Bachelors</td>\n",
       "      <td>single</td>\n",
       "      <td>Female</td>\n",
       "      <td>0</td>\n",
       "      <td>2</td>\n",
       "    </tr>\n",
       "    <tr>\n",
       "      <th>4</th>\n",
       "      <td>Doctorate</td>\n",
       "      <td>married</td>\n",
       "      <td>Female</td>\n",
       "      <td>1</td>\n",
       "      <td>3</td>\n",
       "    </tr>\n",
       "    <tr>\n",
       "      <th>5</th>\n",
       "      <td>HS-grad</td>\n",
       "      <td>widowed</td>\n",
       "      <td>Male</td>\n",
       "      <td>1</td>\n",
       "      <td>2</td>\n",
       "    </tr>\n",
       "    <tr>\n",
       "      <th>6</th>\n",
       "      <td>Doctorate</td>\n",
       "      <td>divorced</td>\n",
       "      <td>Male</td>\n",
       "      <td>0</td>\n",
       "      <td>1</td>\n",
       "    </tr>\n",
       "    <tr>\n",
       "      <th>7</th>\n",
       "      <td>Masters</td>\n",
       "      <td>married</td>\n",
       "      <td>Male</td>\n",
       "      <td>1</td>\n",
       "      <td>5</td>\n",
       "    </tr>\n",
       "    <tr>\n",
       "      <th>8</th>\n",
       "      <td>Bachelors</td>\n",
       "      <td>single</td>\n",
       "      <td>Female</td>\n",
       "      <td>0</td>\n",
       "      <td>2</td>\n",
       "    </tr>\n",
       "    <tr>\n",
       "      <th>9</th>\n",
       "      <td>Doctorate</td>\n",
       "      <td>married</td>\n",
       "      <td>Female</td>\n",
       "      <td>1</td>\n",
       "      <td>2</td>\n",
       "    </tr>\n",
       "  </tbody>\n",
       "</table>\n",
       "</div>"
      ],
      "text/plain": [
       "   education marital.status     sex  income  education.num\n",
       "0    HS-grad        widowed    Male       1              3\n",
       "1  Doctorate       divorced    Male       0              4\n",
       "2    Masters        married    Male       1              7\n",
       "3  Bachelors         single  Female       0              2\n",
       "4  Doctorate        married  Female       1              3\n",
       "5    HS-grad        widowed    Male       1              2\n",
       "6  Doctorate       divorced    Male       0              1\n",
       "7    Masters        married    Male       1              5\n",
       "8  Bachelors         single  Female       0              2\n",
       "9  Doctorate        married  Female       1              2"
      ]
     },
     "execution_count": 3,
     "metadata": {},
     "output_type": "execute_result"
    }
   ],
   "source": [
    "\n",
    "toy_educ = ['HS-grad', 'Doctorate', 'Masters', 'Bachelors', 'Doctorate'] * 2\n",
    "toy_mar = ['widowed', 'divorced', 'married', 'single', 'married'] * 2 \n",
    "toy_sex = ['Male', 'Male', 'Male', 'Female', 'Female'] * 2\n",
    "toy_inc = [1, 0, 1, 0, 1] * 2\n",
    "toy_educ_num = [3,4,7,2, 3,2,1,5,2,2]\n",
    "toy_data = pd.DataFrame({'education':toy_educ , 'marital.status':toy_mar, 'sex':toy_sex, 'income':toy_inc, 'education.num':toy_educ_num})\n",
    "toy_data\n"
   ]
  },
  {
   "cell_type": "code",
   "execution_count": 4,
   "metadata": {},
   "outputs": [],
   "source": [
    "DATA = toy_data\n",
    "FEAT_OF_INT = ['education', 'marital.status', 'sex', 'income'] #The features we are interested in"
   ]
  },
  {
   "cell_type": "markdown",
   "metadata": {},
   "source": [
    "## Encoder for categorical values"
   ]
  },
  {
   "cell_type": "code",
   "execution_count": 5,
   "metadata": {},
   "outputs": [
    {
     "name": "stdout",
     "output_type": "stream",
     "text": [
      "3 categorical features found: ['education', 'marital.status', 'sex']\n"
     ]
    }
   ],
   "source": [
    "from sklearn.preprocessing import OneHotEncoder\n",
    "cat_feats = list(DATA.select_dtypes(\"object\").keys())  #names of all categorical features\n",
    "# cat_feats.remove('income') #keep these values as is \n",
    "print(f\"{len(cat_feats)} categorical features found: {cat_feats}\")\n",
    "\n",
    "cat_feat_encoder = OneHotEncoder(sparse_output=False, drop='if_binary').set_output(transform=\"pandas\")\n",
    "cat_feat_encoder = cat_feat_encoder.fit(DATA[cat_feats])"
   ]
  },
  {
   "cell_type": "markdown",
   "metadata": {},
   "source": [
    "## Split train and test"
   ]
  },
  {
   "cell_type": "code",
   "execution_count": 6,
   "metadata": {},
   "outputs": [
    {
     "name": "stdout",
     "output_type": "stream",
     "text": [
      "Train size: 7, test size: 3\n"
     ]
    }
   ],
   "source": [
    "train, test = train_test_split(DATA, test_size=0.3)\n",
    "print(f\"Train size: {len(train)}, test size: {len(test)}\")"
   ]
  },
  {
   "cell_type": "code",
   "execution_count": 7,
   "metadata": {},
   "outputs": [
    {
     "data": {
      "text/html": [
       "<div>\n",
       "<style scoped>\n",
       "    .dataframe tbody tr th:only-of-type {\n",
       "        vertical-align: middle;\n",
       "    }\n",
       "\n",
       "    .dataframe tbody tr th {\n",
       "        vertical-align: top;\n",
       "    }\n",
       "\n",
       "    .dataframe thead th {\n",
       "        text-align: right;\n",
       "    }\n",
       "</style>\n",
       "<table border=\"1\" class=\"dataframe\">\n",
       "  <thead>\n",
       "    <tr style=\"text-align: right;\">\n",
       "      <th></th>\n",
       "      <th>education</th>\n",
       "      <th>marital.status</th>\n",
       "      <th>sex</th>\n",
       "      <th>income</th>\n",
       "      <th>education.num</th>\n",
       "    </tr>\n",
       "  </thead>\n",
       "  <tbody>\n",
       "    <tr>\n",
       "      <th>6</th>\n",
       "      <td>Doctorate</td>\n",
       "      <td>divorced</td>\n",
       "      <td>Male</td>\n",
       "      <td>0</td>\n",
       "      <td>1</td>\n",
       "    </tr>\n",
       "    <tr>\n",
       "      <th>5</th>\n",
       "      <td>HS-grad</td>\n",
       "      <td>widowed</td>\n",
       "      <td>Male</td>\n",
       "      <td>1</td>\n",
       "      <td>2</td>\n",
       "    </tr>\n",
       "    <tr>\n",
       "      <th>7</th>\n",
       "      <td>Masters</td>\n",
       "      <td>married</td>\n",
       "      <td>Male</td>\n",
       "      <td>1</td>\n",
       "      <td>5</td>\n",
       "    </tr>\n",
       "    <tr>\n",
       "      <th>4</th>\n",
       "      <td>Doctorate</td>\n",
       "      <td>married</td>\n",
       "      <td>Female</td>\n",
       "      <td>1</td>\n",
       "      <td>3</td>\n",
       "    </tr>\n",
       "    <tr>\n",
       "      <th>8</th>\n",
       "      <td>Bachelors</td>\n",
       "      <td>single</td>\n",
       "      <td>Female</td>\n",
       "      <td>0</td>\n",
       "      <td>2</td>\n",
       "    </tr>\n",
       "    <tr>\n",
       "      <th>2</th>\n",
       "      <td>Masters</td>\n",
       "      <td>married</td>\n",
       "      <td>Male</td>\n",
       "      <td>1</td>\n",
       "      <td>7</td>\n",
       "    </tr>\n",
       "    <tr>\n",
       "      <th>0</th>\n",
       "      <td>HS-grad</td>\n",
       "      <td>widowed</td>\n",
       "      <td>Male</td>\n",
       "      <td>1</td>\n",
       "      <td>3</td>\n",
       "    </tr>\n",
       "  </tbody>\n",
       "</table>\n",
       "</div>"
      ],
      "text/plain": [
       "   education marital.status     sex  income  education.num\n",
       "6  Doctorate       divorced    Male       0              1\n",
       "5    HS-grad        widowed    Male       1              2\n",
       "7    Masters        married    Male       1              5\n",
       "4  Doctorate        married  Female       1              3\n",
       "8  Bachelors         single  Female       0              2\n",
       "2    Masters        married    Male       1              7\n",
       "0    HS-grad        widowed    Male       1              3"
      ]
     },
     "execution_count": 7,
     "metadata": {},
     "output_type": "execute_result"
    }
   ],
   "source": [
    "train"
   ]
  },
  {
   "cell_type": "code",
   "execution_count": 8,
   "metadata": {},
   "outputs": [],
   "source": [
    "x_train = train.drop(columns=['income'])\n",
    "y_train = train['income']\n",
    "\n",
    "x_test  = test.drop(columns=['income'])\n",
    "y_test  = test['income']"
   ]
  },
  {
   "cell_type": "code",
   "execution_count": 9,
   "metadata": {},
   "outputs": [],
   "source": [
    "from data_transform import cat_to_one_hot\n",
    "x_train_encoded = cat_to_one_hot(x_train, cat_feats, cat_feat_encoder)\n",
    "x_test_encoded = cat_to_one_hot(x_test, cat_feats, cat_feat_encoder)"
   ]
  },
  {
   "cell_type": "markdown",
   "metadata": {},
   "source": [
    "# Logistic regression"
   ]
  },
  {
   "cell_type": "code",
   "execution_count": 10,
   "metadata": {},
   "outputs": [
    {
     "data": {
      "text/html": [
       "<div>\n",
       "<style scoped>\n",
       "    .dataframe tbody tr th:only-of-type {\n",
       "        vertical-align: middle;\n",
       "    }\n",
       "\n",
       "    .dataframe tbody tr th {\n",
       "        vertical-align: top;\n",
       "    }\n",
       "\n",
       "    .dataframe thead th {\n",
       "        text-align: right;\n",
       "    }\n",
       "</style>\n",
       "<table border=\"1\" class=\"dataframe\">\n",
       "  <thead>\n",
       "    <tr style=\"text-align: right;\">\n",
       "      <th></th>\n",
       "      <th>education</th>\n",
       "      <th>marital.status</th>\n",
       "      <th>sex</th>\n",
       "      <th>income</th>\n",
       "      <th>y_pred</th>\n",
       "    </tr>\n",
       "  </thead>\n",
       "  <tbody>\n",
       "    <tr>\n",
       "      <th>3</th>\n",
       "      <td>Bachelors</td>\n",
       "      <td>single</td>\n",
       "      <td>Female</td>\n",
       "      <td>0</td>\n",
       "      <td>0</td>\n",
       "    </tr>\n",
       "    <tr>\n",
       "      <th>1</th>\n",
       "      <td>Doctorate</td>\n",
       "      <td>divorced</td>\n",
       "      <td>Male</td>\n",
       "      <td>0</td>\n",
       "      <td>1</td>\n",
       "    </tr>\n",
       "    <tr>\n",
       "      <th>9</th>\n",
       "      <td>Doctorate</td>\n",
       "      <td>married</td>\n",
       "      <td>Female</td>\n",
       "      <td>1</td>\n",
       "      <td>1</td>\n",
       "    </tr>\n",
       "  </tbody>\n",
       "</table>\n",
       "</div>"
      ],
      "text/plain": [
       "   education marital.status     sex  income  y_pred\n",
       "3  Bachelors         single  Female       0       0\n",
       "1  Doctorate       divorced    Male       0       1\n",
       "9  Doctorate        married  Female       1       1"
      ]
     },
     "execution_count": 10,
     "metadata": {},
     "output_type": "execute_result"
    }
   ],
   "source": [
    "# Your code\n",
    "logreg = LogisticRegression().fit(x_train_encoded, y_train)\n",
    "\n",
    "y_pred= list(logreg.predict(x_test_encoded))\n",
    "\n",
    "logreg_results = test.copy() #get all the data of the test set\n",
    "\n",
    "logreg_results = logreg_results.filter(items=FEAT_OF_INT) #keep only relevant info\n",
    "logreg_results['y_pred'] = y_pred\n",
    "logreg_results"
   ]
  },
  {
   "cell_type": "code",
   "execution_count": null,
   "metadata": {},
   "outputs": [],
   "source": []
  }
 ],
 "metadata": {
  "kernelspec": {
   "display_name": ".venv",
   "language": "python",
   "name": "python3"
  },
  "language_info": {
   "codemirror_mode": {
    "name": "ipython",
    "version": 3
   },
   "file_extension": ".py",
   "mimetype": "text/x-python",
   "name": "python",
   "nbconvert_exporter": "python",
   "pygments_lexer": "ipython3",
   "version": "3.11.5"
  }
 },
 "nbformat": 4,
 "nbformat_minor": 2
}
