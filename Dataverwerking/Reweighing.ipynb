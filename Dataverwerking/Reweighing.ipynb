{
 "cells": [
  {
   "cell_type": "code",
   "execution_count": 2,
   "metadata": {},
   "outputs": [],
   "source": [
    "from reweighing import weighting_educ, weighting_maritalstatus"
   ]
  },
  {
   "cell_type": "code",
   "execution_count": 73,
   "metadata": {},
   "outputs": [
    {
     "name": "stdout",
     "output_type": "stream",
     "text": [
      "dict_keys(['8', '11', 'HS-grad', 'Some-college', 'assoc', 'Bachelors', 'Masters', 'Prof-school', 'Doctorate']) \n",
      " [0.2269792427365061, 0.3093568656412059, 0.6694595918070898, 0.5161013981243859, 0.9998019359098849, 0.9703584627146346, 1.2312560881987997, 0.5530240269659172, 1.163563571096275] \n",
      " [0.47621976555833023, 0.6203936279326979, 1.3322053589817218, 0.8667132892975913, 2.040141036814523, 2.475720131227805, 3.684885360226981, 2.4776717415707235, 3.6863151712957185] \n",
      " dict_keys(['Never-married', 'Married', 'Separated', 'Divorced', 'Widowed']) \n",
      " [0.9930934758755159, 0.5787769230260589, 0.6427218448608766, 0.8536773849373384, 2.494169552848252] \n",
      " [1.0741509227484345, 4.144875173611973, 0.574172801665185, 0.7574571502995334, 1.7530552344190702]\n"
     ]
    }
   ],
   "source": [
    "# applying weights\n",
    "import csv\n",
    "gender = []\n",
    "educ = []\n",
    "status = []\n",
    "with open('adult.csv', newline='') as data:\n",
    "    spamreader = csv.reader(data, delimiter=',')\n",
    "    for row in spamreader:\n",
    "        #[1:-1] because the words look like this: \"'word'\"\n",
    "        educ.append(row[3][1:-1])\n",
    "        gender.append(row[9][1:-1])\n",
    "        status.append(row[5][1:-1])\n",
    "pos_level, male_educ, female_educ = weighting_educ(gender, educ)\n",
    "pos_status, male_mar, female_mar = weighting_maritalstatus(gender, status)\n",
    "print(pos_level, \"\\n\", male_educ,\"\\n\" , female_educ, \"\\n\", pos_status, \"\\n\", male_mar, \"\\n\", female_mar)"
   ]
  }
 ],
 "metadata": {
  "kernelspec": {
   "display_name": "Python 3",
   "language": "python",
   "name": "python3"
  },
  "language_info": {
   "codemirror_mode": {
    "name": "ipython",
    "version": 3
   },
   "file_extension": ".py",
   "mimetype": "text/x-python",
   "name": "python",
   "nbconvert_exporter": "python",
   "pygments_lexer": "ipython3",
   "version": "3.11.5"
  }
 },
 "nbformat": 4,
 "nbformat_minor": 2
}
