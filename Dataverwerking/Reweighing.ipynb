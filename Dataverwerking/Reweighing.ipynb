{
 "cells": [
  {
   "cell_type": "code",
   "execution_count": 6,
   "metadata": {},
   "outputs": [
    {
     "name": "stdout",
     "output_type": "stream",
     "text": [
      "Requirement already satisfied: pandas in c:\\users\\lisaa\\appdata\\local\\packages\\pythonsoftwarefoundation.python.3.11_qbz5n2kfra8p0\\localcache\\local-packages\\python311\\site-packages (2.1.3)\n",
      "Requirement already satisfied: numpy<2,>=1.23.2 in c:\\users\\lisaa\\appdata\\local\\packages\\pythonsoftwarefoundation.python.3.11_qbz5n2kfra8p0\\localcache\\local-packages\\python311\\site-packages (from pandas) (1.26.2)\n",
      "Requirement already satisfied: python-dateutil>=2.8.2 in c:\\users\\lisaa\\appdata\\local\\packages\\pythonsoftwarefoundation.python.3.11_qbz5n2kfra8p0\\localcache\\local-packages\\python311\\site-packages (from pandas) (2.8.2)\n",
      "Requirement already satisfied: pytz>=2020.1 in c:\\users\\lisaa\\appdata\\local\\packages\\pythonsoftwarefoundation.python.3.11_qbz5n2kfra8p0\\localcache\\local-packages\\python311\\site-packages (from pandas) (2023.3.post1)\n",
      "Requirement already satisfied: tzdata>=2022.1 in c:\\users\\lisaa\\appdata\\local\\packages\\pythonsoftwarefoundation.python.3.11_qbz5n2kfra8p0\\localcache\\local-packages\\python311\\site-packages (from pandas) (2023.3)\n",
      "Requirement already satisfied: six>=1.5 in c:\\users\\lisaa\\appdata\\local\\packages\\pythonsoftwarefoundation.python.3.11_qbz5n2kfra8p0\\localcache\\local-packages\\python311\\site-packages (from python-dateutil>=2.8.2->pandas) (1.16.0)\n"
     ]
    },
    {
     "name": "stderr",
     "output_type": "stream",
     "text": [
      "\n",
      "[notice] A new release of pip is available: 23.3.2 -> 24.0\n",
      "[notice] To update, run: C:\\Users\\lisaa\\AppData\\Local\\Microsoft\\WindowsApps\\PythonSoftwareFoundation.Python.3.11_qbz5n2kfra8p0\\python.exe -m pip install --upgrade pip\n",
      "ERROR: Could not find a version that satisfies the requirement csv (from versions: none)\n",
      "ERROR: No matching distribution found for csv\n",
      "\n",
      "[notice] A new release of pip is available: 23.3.2 -> 24.0\n",
      "[notice] To update, run: C:\\Users\\lisaa\\AppData\\Local\\Microsoft\\WindowsApps\\PythonSoftwareFoundation.Python.3.11_qbz5n2kfra8p0\\python.exe -m pip install --upgrade pip\n"
     ]
    }
   ],
   "source": [
    "!pip install pandas\n",
    "!pip install csv"
   ]
  },
  {
   "cell_type": "code",
   "execution_count": 50,
   "metadata": {},
   "outputs": [],
   "source": [
    "def weighting_educ(column_mf, column_level):\n",
    "    #Creating the observed data\n",
    "    possible_levels = {\"HS-grad\", \"Some-college\", \"Assoc-acdm\", \"Assoc-voc\", \"Bachelors\", \"Masters\", \"Prof-school\", \"Doctorate\"}\n",
    "    p_obs_male_dict = {\"8\":0, \"11\":0, \"HS-grad\": 0, \"Some-college\": 0, \"assoc\": 0, \"Bachelors\": 0, \"Masters\": 0, \"Prof-school\": 0, \"Doctorate\": 0}\n",
    "    p_obs_female_dict = {\"8\":0, \"11\":0, \"HS-grad\": 0, \"Some-college\": 0, \"assoc\": 0, \"Bachelors\": 0, \"Masters\": 0, \"Prof-school\": 0, \"Doctorate\": 0}\n",
    "    female_ob = 0\n",
    "    male_ob = 0\n",
    "    for i,(level,gender) in enumerate(zip(column_level, column_mf)):\n",
    "        #Counting all instances per category\n",
    "        if not level in possible_levels:\n",
    "            try:\n",
    "                if level == \"Preschool\":\n",
    "                    if gender == \"Male\":\n",
    "                        p_obs_male_dict[\"8\"] += 1\n",
    "                    else:\n",
    "                        p_obs_female_dict[\"8\"] += 1\n",
    "                elif int(level[0]) <= 8:\n",
    "                    if gender == \"Male\":\n",
    "                        p_obs_male_dict[\"8\"] += 1\n",
    "                    else:\n",
    "                        p_obs_female_dict[\"8\"] += 1\n",
    "            except:\n",
    "                print(level)\n",
    "            else:\n",
    "                if gender == \"Male\":\n",
    "                    p_obs_male_dict[\"11\"] += 1\n",
    "                else:\n",
    "                    p_obs_female_dict[\"11\"] += 1  \n",
    "        elif level in {\"Assoc-acdm\", \"Assoc-voc\"}:\n",
    "            if gender == \"Male\":\n",
    "                    p_obs_male_dict[\"assoc\"] += 1\n",
    "            else:\n",
    "                p_obs_female_dict[\"assoc\"] += 1\n",
    "        else:\n",
    "            if gender == \"Male\":\n",
    "                p_obs_male_dict[level] += 1\n",
    "            else:\n",
    "                p_obs_female_dict[level] += 1\n",
    "        #Counting the amount of men and women\n",
    "        if gender == \"Male\":\n",
    "            male_ob += 1\n",
    "        else:\n",
    "            female_ob += 1\n",
    "    #Changing the dicts used to count into lists\n",
    "    p_obs_male = [p_obs_male_dict[\"8\"], p_obs_male_dict[\"11\"],p_obs_male_dict[\"HS-grad\"],p_obs_male_dict[\"Some-college\"],p_obs_male_dict[\"assoc\"],p_obs_male_dict[\"Bachelors\"], p_obs_male_dict[\"Masters\"], p_obs_male_dict[\"Doctorate\"]] \n",
    "    p_obs_male = [x  / (male_ob + female_ob) * male_ob for x in p_obs_male]\n",
    "    p_obs_female = [p_obs_female_dict[\"8\"], p_obs_female_dict[\"11\"],p_obs_female_dict[\"HS-grad\"],p_obs_female_dict[\"Some-college\"],p_obs_female_dict[\"assoc\"],p_obs_female_dict[\"Bachelors\"], p_obs_female_dict[\"Masters\"], p_obs_female_dict[\"Doctorate\"]]\n",
    "    p_obs_female = [x  / (male_ob + female_ob) * female_ob for x in p_obs_female]\n",
    "    \n",
    "    #Calculating expected data using data from:\n",
    "    #https://www.census.gov/data/tables/2022/demo/educational-attainment/cps-detailed-tables.html\n",
    "    male = 109.979/226274\n",
    "    female = 116.296/ 226274\n",
    "    levels_male = [x /226274 for x in [4041,\t6303,\t33081,\t16085,\t10616,\t25192,\t10156,\t1860,\t2644] ]\n",
    "    levels_female = [x /226274 for x in [3895,\t5695,\t31383,\t16900,\t13057,\t27853,\t13725,\t1584,\t2203] ]\n",
    "    p_exp_male = []\n",
    "    p_exp_female = []\n",
    "    for i in range(len(levels_male)):\n",
    "        p_exp_male.append(male * levels_male[i])\n",
    "        p_exp_female.append(female * levels_female[i])\n",
    "    \n",
    "    #calculating the weights by deviding the expected by the observed. The output is in order of the dicts on the first lines of the function.\n",
    "    weights_male = []\n",
    "    weights_female = []\n",
    "    for obs_m, exp_m, obs_f, exp_f in zip(p_obs_male, p_exp_male, p_obs_female, p_exp_female):\n",
    "        weights_male.append(exp_m / obs_m)\n",
    "        weights_female.append(exp_f / obs_f)\n",
    "    \n",
    "    return weights_male, weights_female\n",
    "    "
   ]
  },
  {
   "cell_type": "code",
   "execution_count": 51,
   "metadata": {},
   "outputs": [],
   "source": [
    "#Reweighing for marital status"
   ]
  },
  {
   "cell_type": "code",
   "execution_count": 52,
   "metadata": {},
   "outputs": [
    {
     "name": "stdout",
     "output_type": "stream",
     "text": [
      "education\n",
      "[5.06295450327839e-09, 6.900453614767138e-09, 1.493283444881931e-08, 1.1512056636894723e-08, 2.230138603324923e-08, 2.164462569072266e-08, 2.7464156991975184e-08, 1.8258264375444193e-08] [2.272171956131687e-08, 2.9600640399685614e-08, 6.356308316891667e-08, 4.135321068918174e-08, 9.734058906539846e-08, 1.1812323343637996e-07, 1.758157427013058e-07, 1.2646400231391827e-07]\n"
     ]
    }
   ],
   "source": [
    "# applying weights\n",
    "import csv\n",
    "gender = []\n",
    "educ = []\n",
    "with open('adult.csv', newline='') as data:\n",
    "    spamreader = csv.reader(data, delimiter=' ')\n",
    "    for row in spamreader:\n",
    "        row = row[0].split(\",\")\n",
    "        educ.append(row[3][1:-1])\n",
    "        gender.append(row[9][1:-1])\n",
    "male, female = weighting_educ(gender, educ)\n",
    "print(male, female)"
   ]
  },
  {
   "cell_type": "code",
   "execution_count": null,
   "metadata": {},
   "outputs": [],
   "source": []
  }
 ],
 "metadata": {
  "kernelspec": {
   "display_name": "Python 3",
   "language": "python",
   "name": "python3"
  },
  "language_info": {
   "codemirror_mode": {
    "name": "ipython",
    "version": 3
   },
   "file_extension": ".py",
   "mimetype": "text/x-python",
   "name": "python",
   "nbconvert_exporter": "python",
   "pygments_lexer": "ipython3",
   "version": "3.12.0"
  }
 },
 "nbformat": 4,
 "nbformat_minor": 2
}
