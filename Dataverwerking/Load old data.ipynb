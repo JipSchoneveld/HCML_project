{
 "cells": [
  {
   "cell_type": "code",
   "execution_count": 3,
   "metadata": {},
   "outputs": [],
   "source": [
    "import pandas as pd\n"
   ]
  },
  {
   "cell_type": "code",
   "execution_count": 10,
   "metadata": {},
   "outputs": [
    {
     "name": "stdout",
     "output_type": "stream",
     "text": [
      "Index(['age', 'workclass', 'fnlwgt', 'education', 'education.num',\n",
      "       'marital.status', 'occupation', 'relationship', 'race', 'sex',\n",
      "       'capital.gain', 'capital.loss', 'hours.per.week', 'native.country',\n",
      "       'income'],\n",
      "      dtype='object')\n"
     ]
    }
   ],
   "source": [
    "old_data = pd.read_csv('adult.csv')"
   ]
  },
  {
   "cell_type": "code",
   "execution_count": 14,
   "metadata": {},
   "outputs": [
    {
     "name": "stdout",
     "output_type": "stream",
     "text": [
      "       age workclass  fnlwgt     education  education.num      marital.status  \\\n",
      "0       90         ?   77053       HS-grad              9             Widowed   \n",
      "1       82   Private  132870       HS-grad              9             Widowed   \n",
      "2       66         ?  186061  Some-college             10             Widowed   \n",
      "3       54   Private  140359       7th-8th              4            Divorced   \n",
      "4       41   Private  264663  Some-college             10           Separated   \n",
      "...    ...       ...     ...           ...            ...                 ...   \n",
      "32556   22   Private  310152  Some-college             10       Never-married   \n",
      "32557   27   Private  257302    Assoc-acdm             12  Married-civ-spouse   \n",
      "32558   40   Private  154374       HS-grad              9  Married-civ-spouse   \n",
      "32559   58   Private  151910       HS-grad              9             Widowed   \n",
      "32560   22   Private  201490       HS-grad              9       Never-married   \n",
      "\n",
      "              occupation   relationship   race     sex  capital.gain  \\\n",
      "0                      ?  Not-in-family  White  Female             0   \n",
      "1        Exec-managerial  Not-in-family  White  Female             0   \n",
      "2                      ?      Unmarried  Black  Female             0   \n",
      "3      Machine-op-inspct      Unmarried  White  Female             0   \n",
      "4         Prof-specialty      Own-child  White  Female             0   \n",
      "...                  ...            ...    ...     ...           ...   \n",
      "32556    Protective-serv  Not-in-family  White    Male             0   \n",
      "32557       Tech-support           Wife  White  Female             0   \n",
      "32558  Machine-op-inspct        Husband  White    Male             0   \n",
      "32559       Adm-clerical      Unmarried  White  Female             0   \n",
      "32560       Adm-clerical      Own-child  White    Male             0   \n",
      "\n",
      "       capital.loss  hours.per.week native.country income  \n",
      "0              4356              40  United-States  <=50K  \n",
      "1              4356              18  United-States  <=50K  \n",
      "2              4356              40  United-States  <=50K  \n",
      "3              3900              40  United-States  <=50K  \n",
      "4              3900              40  United-States  <=50K  \n",
      "...             ...             ...            ...    ...  \n",
      "32556             0              40  United-States  <=50K  \n",
      "32557             0              38  United-States  <=50K  \n",
      "32558             0              40  United-States   >50K  \n",
      "32559             0              40  United-States  <=50K  \n",
      "32560             0              20  United-States  <=50K  \n",
      "\n",
      "[32561 rows x 15 columns]\n"
     ]
    }
   ],
   "source": [
    "print(old_data)"
   ]
  },
  {
   "cell_type": "code",
   "execution_count": 45,
   "metadata": {},
   "outputs": [
    {
     "name": "stdout",
     "output_type": "stream",
     "text": [
      "   age workclass  fnlwgt     education  education.num marital.status  \\\n",
      "1   82   Private  132870       HS-grad              9        Widowed   \n",
      "3   54   Private  140359       7th-8th              4       Divorced   \n",
      "4   41   Private  264663  Some-college             10      Separated   \n",
      "5   34   Private  216864       HS-grad              9       Divorced   \n",
      "6   38   Private  150601          10th              6      Separated   \n",
      "\n",
      "          occupation   relationship   race     sex  capital.gain  \\\n",
      "1    Exec-managerial  Not-in-family  White  Female             0   \n",
      "3  Machine-op-inspct      Unmarried  White  Female             0   \n",
      "4     Prof-specialty      Own-child  White  Female             0   \n",
      "5      Other-service      Unmarried  White  Female             0   \n",
      "6       Adm-clerical      Unmarried  White    Male             0   \n",
      "\n",
      "   capital.loss  hours.per.week native.country income  \n",
      "1          4356              18  United-States  <=50K  \n",
      "3          3900              40  United-States  <=50K  \n",
      "4          3900              40  United-States  <=50K  \n",
      "5          3770              45  United-States  <=50K  \n",
      "6          3770              40  United-States  <=50K  \n"
     ]
    }
   ],
   "source": [
    "#removes any rows that contain a '?', maybe do this after selecting the right columns to prevent unnecessary deleting. \n",
    "mask = old_data.applymap(lambda x: '?' in str(x))\n",
    "\n",
    "old_data_clean = old_data[~mask.any(axis=1)]\n",
    "\n",
    "#print(old_data)\n",
    "print(old_data_clean.head())"
   ]
  },
  {
   "cell_type": "code",
   "execution_count": 42,
   "metadata": {},
   "outputs": [
    {
     "name": "stdout",
     "output_type": "stream",
     "text": [
      "Percentage women before cleaning: 33.08%\n",
      "Percentage women after cleaning: 32.43%\n"
     ]
    }
   ],
   "source": [
    "number_rows = old_data_clean.shape[0]\n",
    "\n",
    "od_sex = old_data['sex'].value_counts()\n",
    "od_percentage_woman = (od_sex[1]/(od_sex[0]+od_sex[1]))*100\n",
    "print(f'Percentage women before cleaning: {od_percentage_woman:.2f}%')\n",
    "\n",
    "odc_sex = old_data_clean['sex'].value_counts()\n",
    "odc_percentage_woman = (odc_sex[1]/number_rows)*100\n",
    "print(f'Percentage women after cleaning: {odc_percentage_woman:.2f}%')\n",
    "#print(old_data_clean['sex'].value_counts())"
   ]
  },
  {
   "cell_type": "code",
   "execution_count": 54,
   "metadata": {},
   "outputs": [
    {
     "name": "stdout",
     "output_type": "stream",
     "text": [
      "White                 25933\n",
      "Black                  2817\n",
      "Asian-Pac-Islander      895\n",
      "Amer-Indian-Eskimo      286\n",
      "Other                   231\n",
      "Name: race, dtype: int64\n",
      "Percentage black people: 9.34%\n",
      "Percentage high income white people: 26.37%\n",
      "Percentage high income black people: 12.99%\n",
      "40.93123798156621\n"
     ]
    }
   ],
   "source": [
    "print(old_data_clean['race'].value_counts())\n",
    "odc_race = old_data_clean['race'].value_counts()\n",
    "odc_percentage_black = (odc_race[1]/number_rows)*100\n",
    "\n",
    "race_income = old_data_clean[['race','income']].value_counts()\n",
    "high_income_white = 100 * race_income[1]/odc_race[0]\n",
    "high_income_black = 100 * race_income[4]/odc_race[1]\n",
    "\n",
    "#print(old_data_clean[['race','income']].value_counts())\n",
    "\n",
    "print(f'Percentage black people: {odc_percentage_black:.2f}%')\n",
    "print(f'Percentage high income white people: {high_income_white:.2f}%')\n",
    "print(f'Percentage high income black people: {high_income_black:.2f}%')\n",
    "print(old_data_clean['hours.per.week'].mean())"
   ]
  },
  {
   "cell_type": "code",
   "execution_count": null,
   "metadata": {},
   "outputs": [],
   "source": []
  }
 ],
 "metadata": {
  "kernelspec": {
   "display_name": "Python 3",
   "language": "python",
   "name": "python3"
  },
  "language_info": {
   "codemirror_mode": {
    "name": "ipython",
    "version": 3
   },
   "file_extension": ".py",
   "mimetype": "text/x-python",
   "name": "python",
   "nbconvert_exporter": "python",
   "pygments_lexer": "ipython3",
   "version": "3.6.5"
  }
 },
 "nbformat": 4,
 "nbformat_minor": 2
}
