{
 "cells": [
  {
   "cell_type": "code",
   "execution_count": 1,
   "metadata": {},
   "outputs": [],
   "source": [
    "import pandas as pd\n",
    "import os"
   ]
  },
  {
   "cell_type": "code",
   "execution_count": 2,
   "metadata": {},
   "outputs": [],
   "source": [
    "#print(old_data)\n",
    "#print(old_data.shape[0])"
   ]
  },
  {
   "cell_type": "code",
   "execution_count": 2,
   "metadata": {},
   "outputs": [
    {
     "name": "stdout",
     "output_type": "stream",
     "text": [
      "   age workclass  fnlwgt     education  education.num marital.status  \\\n",
      "0   90         ?   77053       HS-grad              9        Widowed   \n",
      "1   82   Private  132870       HS-grad              9        Widowed   \n",
      "2   66         ?  186061  Some-college             10        Widowed   \n",
      "3   54   Private  140359       7th-8th              4       Divorced   \n",
      "4   41   Private  264663  Some-college             10      Separated   \n",
      "\n",
      "          occupation   relationship   race     sex  capital.gain  \\\n",
      "0                  ?  Not-in-family  White  Female             0   \n",
      "1    Exec-managerial  Not-in-family  White  Female             0   \n",
      "2                  ?      Unmarried  Black  Female             0   \n",
      "3  Machine-op-inspct      Unmarried  White  Female             0   \n",
      "4     Prof-specialty      Own-child  White  Female             0   \n",
      "\n",
      "   capital.loss  hours.per.week native.country income  \n",
      "0          4356              40  United-States  <=50K  \n",
      "1          4356              18  United-States  <=50K  \n",
      "2          4356              40  United-States  <=50K  \n",
      "3          3900              40  United-States  <=50K  \n",
      "4          3900              40  United-States  <=50K  \n",
      "Prof-specialty       4140\n",
      "Craft-repair         4099\n",
      "Exec-managerial      4066\n",
      "Adm-clerical         3770\n",
      "Sales                3650\n",
      "Other-service        3295\n",
      "Machine-op-inspct    2002\n",
      "?                    1843\n",
      "Transport-moving     1597\n",
      "Handlers-cleaners    1370\n",
      "Farming-fishing       994\n",
      "Tech-support          928\n",
      "Protective-serv       649\n",
      "Priv-house-serv       149\n",
      "Armed-Forces            9\n",
      "Name: occupation, dtype: int64\n",
      "99\n"
     ]
    }
   ],
   "source": [
    "old_data_clean = pd.read_csv(os.path.join('..', 'data', 'adult.csv'))\n",
    "\n",
    "#print(old_data)\n",
    "print(old_data_clean.head())\n",
    "print(old_data_clean['occupation'].value_counts())\n",
    "print(old_data_clean['hours.per.week'].max())"
   ]
  },
  {
   "cell_type": "code",
   "execution_count": 3,
   "metadata": {},
   "outputs": [
    {
     "name": "stdout",
     "output_type": "stream",
     "text": [
      "Number of rows = 32561\n"
     ]
    },
    {
     "ename": "NameError",
     "evalue": "name 'old_data' is not defined",
     "output_type": "error",
     "traceback": [
      "\u001b[1;31m---------------------------------------------------------------------------\u001b[0m",
      "\u001b[1;31mNameError\u001b[0m                                 Traceback (most recent call last)",
      "\u001b[1;32m<ipython-input-3-510aeadc98d9>\u001b[0m in \u001b[0;36m<module>\u001b[1;34m()\u001b[0m\n\u001b[0;32m      2\u001b[0m \u001b[0mprint\u001b[0m\u001b[1;33m(\u001b[0m\u001b[1;34mf'Number of rows = {number_rows}'\u001b[0m\u001b[1;33m)\u001b[0m\u001b[1;33m\u001b[0m\u001b[0m\n\u001b[0;32m      3\u001b[0m \u001b[1;33m\u001b[0m\u001b[0m\n\u001b[1;32m----> 4\u001b[1;33m \u001b[0mod_sex\u001b[0m \u001b[1;33m=\u001b[0m \u001b[0mold_data\u001b[0m\u001b[1;33m[\u001b[0m\u001b[1;34m'sex'\u001b[0m\u001b[1;33m]\u001b[0m\u001b[1;33m.\u001b[0m\u001b[0mvalue_counts\u001b[0m\u001b[1;33m(\u001b[0m\u001b[1;33m)\u001b[0m\u001b[1;33m\u001b[0m\u001b[0m\n\u001b[0m\u001b[0;32m      5\u001b[0m \u001b[0mod_percentage_woman\u001b[0m \u001b[1;33m=\u001b[0m \u001b[1;33m(\u001b[0m\u001b[0mod_sex\u001b[0m\u001b[1;33m[\u001b[0m\u001b[1;36m1\u001b[0m\u001b[1;33m]\u001b[0m\u001b[1;33m/\u001b[0m\u001b[1;33m(\u001b[0m\u001b[0mod_sex\u001b[0m\u001b[1;33m[\u001b[0m\u001b[1;36m0\u001b[0m\u001b[1;33m]\u001b[0m\u001b[1;33m+\u001b[0m\u001b[0mod_sex\u001b[0m\u001b[1;33m[\u001b[0m\u001b[1;36m1\u001b[0m\u001b[1;33m]\u001b[0m\u001b[1;33m)\u001b[0m\u001b[1;33m)\u001b[0m\u001b[1;33m*\u001b[0m\u001b[1;36m100\u001b[0m\u001b[1;33m\u001b[0m\u001b[0m\n\u001b[0;32m      6\u001b[0m \u001b[0mprint\u001b[0m\u001b[1;33m(\u001b[0m\u001b[1;34mf'Percentage women before cleaning: {od_percentage_woman:.2f}%'\u001b[0m\u001b[1;33m)\u001b[0m\u001b[1;33m\u001b[0m\u001b[0m\n",
      "\u001b[1;31mNameError\u001b[0m: name 'old_data' is not defined"
     ]
    }
   ],
   "source": [
    "number_rows = old_data_clean.shape[0]\n",
    "print(f'Number of rows = {number_rows}')\n",
    "\n",
    "od_sex = old_data['sex'].value_counts()\n",
    "od_percentage_woman = (od_sex[1]/(od_sex[0]+od_sex[1]))*100\n",
    "print(f'Percentage women before cleaning: {od_percentage_woman:.2f}%')\n",
    "\n",
    "odc_sex = old_data_clean['sex'].value_counts()\n",
    "odc_percentage_woman = (odc_sex[1]/number_rows)*100\n",
    "print(f'Percentage women after cleaning: {odc_percentage_woman:.2f}%')\n",
    "\n",
    "sex_income = old_data_clean[['sex','income']].value_counts()\n",
    "#print(sex_income)\n",
    "\n",
    "high_income_women = 100 * sex_income[3]/od_sex[1]\n",
    "high_income_men = 100 * sex_income[2]/od_sex[0]\n",
    "\n",
    "print(f'Percentage of women with high income {high_income_women:.2f}%')\n",
    "print(f'Percentage of men with high income {high_income_men:.2f}%')"
   ]
  },
  {
   "cell_type": "code",
   "execution_count": 4,
   "metadata": {},
   "outputs": [
    {
     "name": "stdout",
     "output_type": "stream",
     "text": [
      "White                 27816\n",
      "Black                  3124\n",
      "Asian-Pac-Islander     1039\n",
      "Amer-Indian-Eskimo      311\n",
      "Other                   271\n",
      "Name: race, dtype: int64\n",
      "race                income\n",
      "White               <=50K     20699\n",
      "                    >50K       7117\n",
      "Black               <=50K      2737\n",
      "Asian-Pac-Islander  <=50K       763\n",
      "Black               >50K        387\n",
      "Asian-Pac-Islander  >50K        276\n",
      "Amer-Indian-Eskimo  <=50K       275\n",
      "Other               <=50K       246\n",
      "Amer-Indian-Eskimo  >50K         36\n",
      "Other               >50K         25\n",
      "dtype: int64\n",
      "Percentage black people: 9.59%\n",
      "Percentage high income white people: 25.59%\n",
      "Percentage high income black people: 12.39%\n",
      "40.437455852092995\n"
     ]
    }
   ],
   "source": [
    "print(old_data_clean['race'].value_counts())\n",
    "odc_race = old_data_clean['race'].value_counts()\n",
    "odc_percentage_black = (odc_race[1]/number_rows)*100\n",
    "\n",
    "race_income = old_data_clean[['race','income']].value_counts()\n",
    "high_income_white = 100 * race_income[1]/odc_race[0]\n",
    "high_income_black = 100 * race_income[4]/odc_race[1]\n",
    "\n",
    "print(old_data_clean[['race','income']].value_counts())\n",
    "\n",
    "print(f'Percentage black people: {odc_percentage_black:.2f}%')\n",
    "print(f'Percentage high income white people: {high_income_white:.2f}%')\n",
    "print(f'Percentage high income black people: {high_income_black:.2f}%')\n",
    "print(old_data_clean['hours.per.week'].mean())"
   ]
  },
  {
   "cell_type": "code",
   "execution_count": 6,
   "metadata": {},
   "outputs": [
    {
     "name": "stdout",
     "output_type": "stream",
     "text": [
      "sex     education   \n",
      "Male    HS-grad         7111\n",
      "        Some-college    4485\n",
      "        Bachelors       3736\n",
      "Female  HS-grad         3390\n",
      "        Some-college    2806\n",
      "        Bachelors       1619\n",
      "Male    Masters         1187\n",
      "        Assoc-voc        882\n",
      "        11th             743\n",
      "        Assoc-acdm       646\n",
      "        10th             638\n",
      "Female  Masters          536\n",
      "        Assoc-voc        500\n",
      "Male    7th-8th          486\n",
      "        Prof-school      484\n",
      "Female  11th             432\n",
      "        Assoc-acdm       421\n",
      "Male    9th              370\n",
      "        Doctorate        327\n",
      "Female  10th             295\n",
      "Male    12th             289\n",
      "        5th-6th          249\n",
      "Female  7th-8th          160\n",
      "        9th              144\n",
      "        12th             144\n",
      "Male    1st-4th          122\n",
      "Female  Prof-school       92\n",
      "        Doctorate         86\n",
      "        5th-6th           84\n",
      "        1st-4th           46\n",
      "Male    Preschool         35\n",
      "Female  Preschool         16\n",
      "dtype: int64\n"
     ]
    }
   ],
   "source": [
    "print(old_data_clean[['sex', 'education']].value_counts)"
   ]
  },
  {
   "cell_type": "code",
   "execution_count": 23,
   "metadata": {
    "scrolled": true
   },
   "outputs": [
    {
     "name": "stdout",
     "output_type": "stream",
     "text": [
      "                   Male     Female\n",
      "HS-grad       67.717360  32.282640\n",
      "Some-college  61.514196  38.485804\n",
      "7th-8th       75.232198  24.767802\n",
      "10th          68.381565  31.618435\n",
      "Doctorate     79.176755  20.823245\n",
      "Prof-school   84.027778  15.972222\n",
      "Bachelors     69.766573  30.233427\n",
      "Masters       68.891468  31.108532\n",
      "11th          63.234043  36.765957\n",
      "Assoc-acdm    60.543580  39.456420\n",
      "Assoc-voc     63.820550  36.179450\n",
      "1st-4th       72.619048  27.380952\n",
      "5th-6th       74.774775  25.225225\n",
      "12th          66.743649  33.256351\n",
      "9th           71.984436  28.015564\n",
      "Preschool     68.627451  31.372549\n"
     ]
    },
    {
     "data": {
      "image/png": "[encoded data removed]",
      "text/plain": [
       "<Figure size 720x432 with 1 Axes>"
      ]
     },
     "metadata": {},
     "output_type": "display_data"
    }
   ],
   "source": [
    "\n",
    "import matplotlib.pyplot as plt\n",
    "\n",
    "gender_percentages = {}\n",
    "\n",
    "# Get the unique education levels\n",
    "education_levels = old_data_clean['education'].unique()\n",
    "\n",
    "# Iterate through each education level\n",
    "for level in education_levels:\n",
    "    # Filter the DataFrame for the current education level\n",
    "    subset = old_data_clean[old_data_clean['education'] == level]\n",
    "    \n",
    "    # Calculate the gender counts\n",
    "    gender_counts = subset['sex'].value_counts(normalize=True) * 100\n",
    "    \n",
    "    # Store the results in the dictionary\n",
    "    gender_percentages[level] = gender_counts.to_dict()\n",
    "\n",
    "# Convert the dictionary to a DataFrame for better readability\n",
    "result_df = pd.DataFrame(gender_percentages).transpose().fillna(0)\n",
    "print(result_df)\n",
    "\n",
    "result_df = result_df.drop(['Some-college', '1st-4th', '5th-6th', '7th-8th', '9th', '10th', '11th', '12th','Preschool', 'Prof-school','Assoc-voc'])\n",
    "\n",
    "fig, ax = plt.subplots(figsize=(10, 6))\n",
    "\n",
    "bar_width = 0.35\n",
    "index = result_df.index\n",
    "bar_positions = range(len(index))\n",
    "\n",
    "colors = {'Male': 'lightblue', 'Female': 'pink'}\n",
    "\n",
    "# Plot bars for each gender\n",
    "for i, gender in enumerate(result_df.columns):\n",
    "    ax.bar(\n",
    "        [pos + i * bar_width for pos in bar_positions],\n",
    "        result_df[gender],\n",
    "        bar_width,\n",
    "        label=gender,\n",
    "        color=colors.get(gender, 'gray')  # Default to gray if gender is not in the colors dict\n",
    "    )\n",
    "\n",
    "# Set the x-ticks to be in the center of grouped bars\n",
    "ax.set_xticks([pos + (bar_width * (len(result_df.columns) / 2)) - (bar_width / 2) for pos in bar_positions])\n",
    "ax.set_xticklabels(index)\n",
    "\n",
    "ax.set_xlabel('Education Level')\n",
    "ax.set_ylabel('Percentage')\n",
    "ax.set_title('Gender Percentages by Education Level')\n",
    "plt.legend(title='Sex', bbox_to_anchor=(1.05, 1), loc='upper left')\n",
    "plt.tight_layout()\n",
    "\n",
    "# Display the plot\n",
    "plt.show()"
   ]
  },
  {
   "cell_type": "code",
   "execution_count": null,
   "metadata": {},
   "outputs": [],
   "source": []
  }
 ],
 "metadata": {
  "kernelspec": {
   "display_name": "Python 3",
   "language": "python",
   "name": "python3"
  },
  "language_info": {
   "codemirror_mode": {
    "name": "ipython",
    "version": 3
   },
   "file_extension": ".py",
   "mimetype": "text/x-python",
   "name": "python",
   "nbconvert_exporter": "python",
   "pygments_lexer": "ipython3",
   "version": "3.6.5"
  }
 },
 "nbformat": 4,
 "nbformat_minor": 2
}
